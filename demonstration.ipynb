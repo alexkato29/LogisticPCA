{
 "cells": [
  {
   "cell_type": "code",
   "execution_count": 1,
   "metadata": {},
   "outputs": [],
   "source": [
    "import numpy as np\n",
    "import pandas as pd\n",
    "from LPCA import LogisticPCA"
   ]
  },
  {
   "cell_type": "code",
   "execution_count": 2,
   "metadata": {},
   "outputs": [],
   "source": [
    "matrix = np.array([[0, 1],\n",
    "                   [0, 1],\n",
    "                   [0, 1],\n",
    "                   [0, 1],\n",
    "                   [1, 1], \n",
    "                   [1, 1], \n",
    "                   [1, 1],\n",
    "                   [1, 0],\n",
    "                   [1, 0],\n",
    "                   [0, 0]])"
   ]
  },
  {
   "cell_type": "code",
   "execution_count": 4,
   "metadata": {},
   "outputs": [
    {
     "name": "stdout",
     "output_type": "stream",
     "text": [
      "Iteration: 0\n",
      "Percent of Deviance Explained: 62.359%, Log Likelihood: -4.69\n",
      "\n",
      "Iteration: 10\n",
      "Percent of Deviance Explained: 65.125%, Log Likelihood: -4.55\n",
      "\n",
      "Reached Convergence on Iteration #12\n",
      "Training Complete. Converged Reached: True\n",
      "Percent of Deviance Explained: 65.12545963857758%\n",
      "Total Training Time: 0.003208160400390625\n"
     ]
    }
   ],
   "source": [
    "lpca = LogisticPCA(m=6, k=1)\n",
    "lpca.fit(matrix, verbose=True)"
   ]
  },
  {
   "cell_type": "code",
   "execution_count": null,
   "metadata": {},
   "outputs": [],
   "source": [
    "matrix = np.array([[0, 1], \n",
    "                   [1, 1],\n",
    "                   [1, 0],\n",
    "                   [0, 0]])\n",
    "\n",
    "transformed = lpca.transform(matrix)\n",
    "transformed = lpca.sigmoid(transformed)\n",
    "print(transformed)"
   ]
  }
 ],
 "metadata": {
  "kernelspec": {
   "display_name": "Python 3",
   "language": "python",
   "name": "python3"
  },
  "language_info": {
   "codemirror_mode": {
    "name": "ipython",
    "version": 3
   },
   "file_extension": ".py",
   "mimetype": "text/x-python",
   "name": "python",
   "nbconvert_exporter": "python",
   "pygments_lexer": "ipython3",
   "version": "3.10.2"
  },
  "orig_nbformat": 4
 },
 "nbformat": 4,
 "nbformat_minor": 2
}
