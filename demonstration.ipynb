{
 "cells": [
  {
   "cell_type": "code",
   "execution_count": 1,
   "metadata": {},
   "outputs": [],
   "source": [
    "import numpy as np\n",
    "import pandas as pd\n",
    "from LPCA import LogisticPCA"
   ]
  },
  {
   "cell_type": "markdown",
   "metadata": {},
   "source": [
    "We create a toy binary dataset and artificially assign probability to different points. \n",
    "P(0, 1) = 0.4, P(1, 1) = 0.3, P(1, 0) = 0.2, P(0, 0) = 0.1"
   ]
  },
  {
   "cell_type": "code",
   "execution_count": 2,
   "metadata": {},
   "outputs": [],
   "source": [
    "matrix = np.array([[0, 1],\n",
    "                   [0, 1],\n",
    "                   [0, 1],\n",
    "                   [0, 1],\n",
    "                   [1, 1], \n",
    "                   [1, 1], \n",
    "                   [1, 1],\n",
    "                   [1, 0],\n",
    "                   [1, 0],\n",
    "                   [0, 0]])"
   ]
  },
  {
   "cell_type": "markdown",
   "metadata": {},
   "source": [
    "We now can train a Logistic PCA dimension reducer on this data. We will reduce the data from two dimensions to one."
   ]
  },
  {
   "cell_type": "code",
   "execution_count": 3,
   "metadata": {},
   "outputs": [
    {
     "name": "stdout",
     "output_type": "stream",
     "text": [
      "Iteration: 0\n",
      "Percent of Deviance Explained: 62.359%\n",
      "Log Likelihood: -4.69\n",
      "\n",
      "Reached Convergence on Iteration #12\n",
      "Training Complete. Converged Reached: True\n",
      "Percent of Deviance Explained: 65.12607499916703 %\n",
      "Total Training Time: 0.0024847984313964844\n"
     ]
    }
   ],
   "source": [
    "lpca = LogisticPCA(m=6, k=1, verbose=True)\n",
    "lpca.fit(matrix)"
   ]
  },
  {
   "cell_type": "markdown",
   "metadata": {},
   "source": [
    "After fitting, we can call transform to reduce a new matrix of observations into the natural parameters on the lower dimensional subspace. Taking the sigmoid of these natural parameters brings the reduced values from the natural parameter space back to our feature space (though still at a lower dimension)"
   ]
  },
  {
   "cell_type": "code",
   "execution_count": 4,
   "metadata": {},
   "outputs": [
    {
     "name": "stdout",
     "output_type": "stream",
     "text": [
      "[[0.99752738]\n",
      " [0.46535796]\n",
      " [0.00247262]\n",
      " [0.52580888]]\n"
     ]
    }
   ],
   "source": [
    "matrix = np.array([[0, 1], \n",
    "                   [1, 1],\n",
    "                   [1, 0],\n",
    "                   [0, 0]])\n",
    "\n",
    "transformed = lpca.transform(matrix)\n",
    "sig = lpca.sigmoid(transformed)\n",
    "print(sig)"
   ]
  },
  {
   "cell_type": "markdown",
   "metadata": {},
   "source": [
    "We can reconstruct the original data using the reconstruct method. This will take the reduced natural parameters and convert them into unreduced natural parameters. Again, we will take the sigmoid of the outputs to bring it back to the feature space. "
   ]
  },
  {
   "cell_type": "code",
   "execution_count": 5,
   "metadata": {},
   "outputs": [
    {
     "name": "stdout",
     "output_type": "stream",
     "text": [
      "[[0.00653723 0.99752738]\n",
      " [0.75905435 0.73243713]\n",
      " [0.99752738 0.00798803]\n",
      " [0.72589093 0.7641857 ]]\n"
     ]
    }
   ],
   "source": [
    "reconstructed = lpca.reconstruct(transformed)\n",
    "sig = lpca.sigmoid(reconstructed)\n",
    "print(sig)"
   ]
  },
  {
   "cell_type": "markdown",
   "metadata": {},
   "source": [
    "We can see most observations were reconstructed fairly well, except for (0, 0) which is blatantly incorrect. This is because in our toy example the model has so few degrees of freedom and the input (0, 0) held little weight in model training. In reality, reducing large datasets explains far more deviance and has more degrees of freedom to capture all relationships."
   ]
  }
 ],
 "metadata": {
  "kernelspec": {
   "display_name": "Python 3",
   "language": "python",
   "name": "python3"
  },
  "language_info": {
   "codemirror_mode": {
    "name": "ipython",
    "version": 3
   },
   "file_extension": ".py",
   "mimetype": "text/x-python",
   "name": "python",
   "nbconvert_exporter": "python",
   "pygments_lexer": "ipython3",
   "version": "3.10.2"
  },
  "orig_nbformat": 4
 },
 "nbformat": 4,
 "nbformat_minor": 2
}
